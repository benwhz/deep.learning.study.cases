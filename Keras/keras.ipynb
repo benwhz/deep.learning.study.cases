{
 "cells": [
  {
   "cell_type": "markdown",
   "metadata": {},
   "source": [
    "## 1 Dataset\n",
    "### 1.1 预处理数据\n",
    "- 文本：删除空格，分词等\n",
    "- 图像：删除无效图像\n",
    "- 音频\n",
    "### 1.2 创建数据集\n",
    "\n",
    "### 1.3 数据增强\n",
    "通过数据增强层提前处理数据。\n",
    "\n",
    "### 1.4 Map数据集\n",
    "\n",
    "### 1.4 预加载数据集\n",
    "\n",
    "## 2 Lyaers\n",
    "\n",
    "## 3 Model\n",
    "有三种方式实例化模型\n",
    "### 3.1 用功能函数\n",
    "### 3.2 继承Model类\n",
    "### 3.3 利用Sequential类\n",
    "\n",
    "## 5 Compile\n",
    "## 6 Fit\n",
    "## 7 Predict"
   ]
  },
  {
   "cell_type": "markdown",
   "metadata": {},
   "source": [
    "## 4 Loss\n",
    "\n",
    "### 4.1 MSE\n",
    "\n",
    "- 用于数值回归"
   ]
  },
  {
   "cell_type": "code",
   "execution_count": 1,
   "metadata": {},
   "outputs": [
    {
     "name": "stdout",
     "output_type": "stream",
     "text": [
      "[[1, 2, 3], [4, 5, 6]] [[1, 2, 3], [6, 5, 4]]\n",
      "tf.Tensor([0.        2.6666667], shape=(2,), dtype=float32)\n",
      "tf.Tensor(1.3333334, shape=(), dtype=float32)\n",
      "tensor(1.3333)\n",
      "tensor(1.3333)\n"
     ]
    }
   ],
   "source": [
    "import keras\n",
    "import tensorflow as tf\n",
    "import torch\n",
    "import torch.nn as nn\n",
    "import numpy as np\n",
    "\n",
    "# keras\n",
    "np.random.seed(1)\n",
    "#y_true = np.random.randint(0, 2, size=(2, 3))\n",
    "#y_pred = np.random.random(size=(2, 3))\n",
    "y_true = [[1,2,3], [4,5,6]]\n",
    "\n",
    "y_pred = [[1,2,3], [6,5,4]]\n",
    "\n",
    "print(y_true, y_pred)\n",
    "\n",
    "loss = keras.losses.mean_squared_error(y_true, y_pred)\n",
    "print(loss)\n",
    "\n",
    "ll = keras.losses.MeanSquaredError()\n",
    "print(ll(tf.constant(y_pred), tf.constant(y_true)))\n",
    "\n",
    "# torch\n",
    "y_true = torch.tensor(y_true, dtype=torch.float32)\n",
    "y_pred = torch.tensor(y_pred, dtype=torch.float32)\n",
    "\n",
    "loss = nn.functional.mse_loss(y_pred, y_true)\n",
    "print(loss)\n",
    "\n",
    "loss = nn.MSELoss()\n",
    "print(loss(y_pred, y_true))"
   ]
  },
  {
   "cell_type": "markdown",
   "metadata": {},
   "source": [
    "\n",
    "### 4.2 二元交叉熵损失函数 \n",
    "\n",
    "- 用于二元分类\n",
    "- 默认from_logits=False，我们假设 y_pred 是概率（即 [0, 1] 中的值）。否则将 y_pred 解释为 logit 值的张量。\n",
    "- Keras:\n",
    "    - BinaryCrossentropy\n",
    "    - BinaryFocalCrossentropy\n",
    "- Pytorch:\n",
    "    - BCELoss\n",
    "    - BCEWithLogitsLoss\n",
    "        - Input: (∗), where ∗ means any number of dimensions.\n",
    "        - Target: (∗), same shape as the input.\n",
    "        - Output: scalar. If reduction is 'none', then (∗), same shape as input."
   ]
  },
  {
   "cell_type": "code",
   "execution_count": 2,
   "metadata": {},
   "outputs": [
    {
     "name": "stdout",
     "output_type": "stream",
     "text": [
      "tf.Tensor(\n",
      "[[8.3583895e-09 6.2480646e-01 9.4978875e-01 2.7607641e-06]\n",
      " [8.3583895e-09 6.2480646e-01 9.4978875e-01 2.7607641e-06]], shape=(2, 4), dtype=float32)\n",
      "tf.Tensor([0.7206758 0.7206758], shape=(2,), dtype=float32)\n",
      "tf.Tensor([0.865458 0.865458], shape=(2,), dtype=float32)\n",
      "-> tf.Tensor([0.91629076 0.6931472 ], shape=(2,), dtype=float32) tf.Tensor(0.804719, shape=(), dtype=float32)\n",
      "tf.Tensor([0.00123826 1.072539  ], shape=(2,), dtype=float32) tf.Tensor(0.5368886, shape=(), dtype=float32)\n",
      "tf.Tensor([0.32986468 0.1732868 ], shape=(2,), dtype=float32)\n",
      "tf.Tensor([7.5681008e-09 8.2504207e-01], shape=(2,), dtype=float32)\n",
      "tensor(0.8047)\n",
      "tensor(0.5369)\n"
     ]
    }
   ],
   "source": [
    "\n",
    "\n",
    "# from logits = True\n",
    "y_true = [[0, 1, 0, 0], [0, 1, 0, 0]]\n",
    "y_pred = [[-18.6, 0.51, 2.94, -12.8], [-18.6, 0.51, 2.94, -12.8]]\n",
    "\n",
    "print(tf.math.sigmoid(y_pred))\n",
    "\n",
    "bce = keras.losses.BinaryCrossentropy(from_logits=True, reduction=None)\n",
    "#print(tf.constant(y_pred), tf.constant(y_true))\n",
    "print(bce(tf.constant(y_pred), tf.constant(y_true)))\n",
    "\n",
    "l = keras.losses.binary_crossentropy(y_true, y_pred, from_logits=True)\n",
    "print(l)\n",
    "#l = keras.losses.binary_focal_crossentropy(y_true, y_pred, from_logits=True)\n",
    "#print(l)\n",
    "\n",
    "# from logits = False\n",
    "y_true = [[0, 1], [1, 0]]\n",
    "y_pred = [[0.6, 0.4], [0.5, 0.5]]      # probabilities [0~1]\n",
    "y_pred_l = [[-6.0, 14.0], [4.0, 2.0]]   # logits, calculated values.\n",
    "loss = keras.losses.binary_crossentropy(y_true, y_pred)\n",
    "assert loss.shape == (2,)\n",
    "print('->', loss, tf.math.reduce_mean(loss))\n",
    "loss = keras.losses.binary_crossentropy(y_true, y_pred_l, from_logits=True)\n",
    "print(loss, tf.math.reduce_mean(loss))\n",
    "\n",
    "loss = keras.losses.binary_focal_crossentropy(y_true, y_pred)\n",
    "assert loss.shape == (2,)\n",
    "print(loss)\n",
    "loss = keras.losses.binary_focal_crossentropy(y_true, y_pred_l, from_logits=True)\n",
    "print(loss)\n",
    "\n",
    "# torch loss BCE, reduction = 'mean'\n",
    "tbce = nn.BCELoss()\n",
    "tbcel = nn.BCEWithLogitsLoss()\n",
    "\n",
    "l = tbce(torch.tensor(y_pred), torch.tensor(y_true, dtype=torch.float32))\n",
    "print(l)\n",
    "l = tbcel(torch.tensor(y_pred_l), torch.tensor(y_true, dtype=torch.float32))\n",
    "print(l)"
   ]
  },
  {
   "cell_type": "code",
   "execution_count": 3,
   "metadata": {},
   "outputs": [
    {
     "name": "stdout",
     "output_type": "stream",
     "text": [
      "tf.Tensor(0.23524371, shape=(), dtype=float32)\n"
     ]
    }
   ],
   "source": [
    "y_true = [0, 1, 0, 0]\n",
    "y_pred = [0.13, 0.6, 0.16, 0.11]\n",
    "#print(tf.math.softmax(y_pred))\n",
    "loss = keras.losses.binary_crossentropy(y_true, y_pred)\n",
    "print(loss)\n"
   ]
  },
  {
   "cell_type": "markdown",
   "metadata": {},
   "source": [
    "### 4.2 分类交叉熵损失函数\n",
    "\n",
    "CategoricalCrossentropy / CategoricalFocalCrossentropy \n",
    "\n",
    "- 用于大于二的分类\n",
    "- 默认from_logits=False，我们假设 y_pred 是概率（即 [0, 1] 中的值）。否则将 y_pred 解释为 logit 值的张量。\n",
    "- 标签以 one_hot 表示形式提供"
   ]
  },
  {
   "cell_type": "code",
   "execution_count": 4,
   "metadata": {},
   "outputs": [
    {
     "name": "stdout",
     "output_type": "stream",
     "text": [
      "tf.Tensor(1.1769392, shape=(), dtype=float32)\n",
      "tf.Tensor(0.23315276, shape=(), dtype=float32)\n"
     ]
    }
   ],
   "source": [
    "y_true = tf.constant([[0, 1, 0], [0, 0, 1]])\n",
    "y_pred = tf.constant([[0.05, 0.95, 0], [0.1, 0.8, 0.1]])\n",
    "# Using 'auto'/'sum_over_batch_size' reduction type.\n",
    "cce = keras.losses.CategoricalCrossentropy()\n",
    "_cce1 = cce(y_true, y_pred)\n",
    "print(_cce1)\n",
    "\n",
    "cfe = keras.losses.CategoricalFocalCrossentropy()\n",
    "print(cfe(y_true, y_pred))"
   ]
  },
  {
   "cell_type": "markdown",
   "metadata": {},
   "source": [
    "### 4.3 分类交叉熵损失函数\n",
    "\n",
    "SparseCategoricalCrossentropy\n",
    "\n",
    "- 用于大于二的分类\n",
    "- 默认from_logits=False，我们假设 y_pred 是概率（即 [0, 1] 中的值）。否则将 y_pred 解释为 logit 值的张量。\n",
    "- 标签以整数形式提供"
   ]
  },
  {
   "cell_type": "code",
   "execution_count": 5,
   "metadata": {},
   "outputs": [
    {
     "name": "stdout",
     "output_type": "stream",
     "text": [
      "tensor(0.9869)\n"
     ]
    }
   ],
   "source": [
    "y_true = tf.constant([1, 2])\n",
    "#y_pred = [[0.05, 0.95, 0], [0.1, 0.8, 0.1]]\n",
    "# Using 'auto'/'sum_over_batch_size' reduction type.\n",
    "scce = keras.losses.SparseCategoricalCrossentropy()\n",
    "_cce2 = scce(y_true, y_pred)\n",
    "assert _cce1 == _cce2\n",
    "\n",
    "# torch\n",
    "loss = nn.CrossEntropyLoss()\n",
    "l = loss(torch.tensor([[0.05, 0.95, 0], [0.1, 0.8, 0.1]]), torch.tensor([1, 2]))\n",
    "print(l)"
   ]
  }
 ],
 "metadata": {
  "kernelspec": {
   "display_name": "Python 3",
   "language": "python",
   "name": "python3"
  },
  "language_info": {
   "codemirror_mode": {
    "name": "ipython",
    "version": 3
   },
   "file_extension": ".py",
   "mimetype": "text/x-python",
   "name": "python",
   "nbconvert_exporter": "python",
   "pygments_lexer": "ipython3",
   "version": "3.11.1"
  }
 },
 "nbformat": 4,
 "nbformat_minor": 2
}
