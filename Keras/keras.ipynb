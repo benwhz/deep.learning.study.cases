{
 "cells": [
  {
   "cell_type": "markdown",
   "metadata": {},
   "source": [
    "## Loss\n",
    "### BinaryCrossentropy / BinaryFocalCrossentropy\n",
    "\n",
    "- 用于二元分类\n",
    "- 默认from_logits=False，我们假设 y_pred 是概率（即 [0, 1] 中的值）。否则将 y_pred 解释为 logit 值的张量。"
   ]
  },
  {
   "cell_type": "code",
   "execution_count": 26,
   "metadata": {},
   "outputs": [
    {
     "name": "stdout",
     "output_type": "stream",
     "text": [
      "tf.Tensor(0.865458, shape=(), dtype=float32)\n",
      "tf.Tensor(0.6912122, shape=(), dtype=float32)\n",
      "tf.Tensor([0.08361798 0.10536055], shape=(2,), dtype=float32)\n",
      "tf.Tensor([0.00063818 0.00105361], shape=(2,), dtype=float32)\n"
     ]
    }
   ],
   "source": [
    "import keras\n",
    "import tensorflow as tf\n",
    "\n",
    "# from logits = True\n",
    "y_true = [0, 1, 0, 0]\n",
    "y_pred = [-18.6, 0.51, 2.94, -12.8]\n",
    "\n",
    "l = keras.losses.binary_crossentropy(y_true, y_pred, from_logits=True)\n",
    "print(l)\n",
    "l = keras.losses.binary_focal_crossentropy(y_true, y_pred, from_logits=True)\n",
    "print(l)\n",
    "\n",
    "# from logits = False\n",
    "y_true = [[0, 1], [0, 0]]\n",
    "y_pred = [[0.06, 0.9], [0.1, 0.1]]\n",
    "loss = keras.losses.binary_crossentropy(y_true, y_pred)\n",
    "assert loss.shape == (2,)\n",
    "print(loss)\n",
    "\n",
    "loss = keras.losses.binary_focal_crossentropy(y_true, y_pred)\n",
    "assert loss.shape == (2,)\n",
    "print(loss)\n"
   ]
  },
  {
   "cell_type": "markdown",
   "metadata": {},
   "source": [
    "### CategoricalCrossentropy / CategoricalFocalCrossentropy \n",
    "\n",
    "- 用于大于二的分类\n",
    "- 默认from_logits=False，我们假设 y_pred 是概率（即 [0, 1] 中的值）。否则将 y_pred 解释为 logit 值的张量。\n",
    "- 标签以 one_hot 表示形式提供"
   ]
  },
  {
   "cell_type": "code",
   "execution_count": 41,
   "metadata": {},
   "outputs": [
    {
     "name": "stdout",
     "output_type": "stream",
     "text": [
      "tf.Tensor(1.1769392, shape=(), dtype=float32)\n",
      "tf.Tensor(0.23315276, shape=(), dtype=float32)\n"
     ]
    }
   ],
   "source": [
    "y_true = tf.constant([[0, 1, 0], [0, 0, 1]])\n",
    "y_pred = tf.constant([[0.05, 0.95, 0], [0.1, 0.8, 0.1]])\n",
    "# Using 'auto'/'sum_over_batch_size' reduction type.\n",
    "cce = keras.losses.CategoricalCrossentropy()\n",
    "_cce1 = cce(y_true, y_pred)\n",
    "print(_cce1)\n",
    "\n",
    "cfe = keras.losses.CategoricalFocalCrossentropy()\n",
    "print(cfe(y_true, y_pred))"
   ]
  },
  {
   "cell_type": "markdown",
   "metadata": {},
   "source": [
    "### SparseCategoricalCrossentropy\n",
    "\n",
    "- 用于大于二的分类\n",
    "- 默认from_logits=False，我们假设 y_pred 是概率（即 [0, 1] 中的值）。否则将 y_pred 解释为 logit 值的张量。\n",
    "- 标签以整数形式提供"
   ]
  },
  {
   "cell_type": "code",
   "execution_count": 42,
   "metadata": {},
   "outputs": [],
   "source": [
    "y_true = tf.constant([1, 2])\n",
    "#y_pred = [[0.05, 0.95, 0], [0.1, 0.8, 0.1]]\n",
    "# Using 'auto'/'sum_over_batch_size' reduction type.\n",
    "scce = keras.losses.SparseCategoricalCrossentropy()\n",
    "_cce2 = scce(y_true, y_pred)\n",
    "assert _cce1 == _cce2"
   ]
  }
 ],
 "metadata": {
  "kernelspec": {
   "display_name": "Python 3",
   "language": "python",
   "name": "python3"
  },
  "language_info": {
   "codemirror_mode": {
    "name": "ipython",
    "version": 3
   },
   "file_extension": ".py",
   "mimetype": "text/x-python",
   "name": "python",
   "nbconvert_exporter": "python",
   "pygments_lexer": "ipython3",
   "version": "3.11.8"
  }
 },
 "nbformat": 4,
 "nbformat_minor": 2
}
